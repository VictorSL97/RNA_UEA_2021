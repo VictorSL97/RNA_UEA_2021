{
  "nbformat": 4,
  "nbformat_minor": 0,
  "metadata": {
    "colab": {
      "name": "RNA_AT1.2.ipynb",
      "provenance": [],
      "collapsed_sections": []
    },
    "kernelspec": {
      "name": "python3",
      "display_name": "Python 3"
    },
    "language_info": {
      "name": "python"
    }
  },
  "cells": [
    {
      "cell_type": "markdown",
      "metadata": {
        "id": "VkB4ZWNDAKRe"
      },
      "source": [
        "Instalando / Importando das bibliotecas utilizadas"
      ]
    },
    {
      "cell_type": "code",
      "metadata": {
        "id": "E7NzYpNPJeKf",
        "colab": {
          "base_uri": "https://localhost:8080/"
        },
        "outputId": "0b91d77e-84af-4ef8-f541-b8ecf8d97956"
      },
      "source": [
        "# O pacote Unidecode foi utilizado para remoção dos acentos nos nomes de bairros \n",
        "!pip install unidecode\n",
        "\n",
        "import re\n",
        "import datetime\n",
        "import heapq\n",
        "\n",
        "import pandas as pd\n",
        "import numpy as np\n",
        "import seaborn as sn\n",
        "import matplotlib.pyplot as plt\n",
        "\n",
        "from unidecode import unidecode"
      ],
      "execution_count": 2,
      "outputs": [
        {
          "output_type": "stream",
          "name": "stdout",
          "text": [
            "Collecting unidecode\n",
            "  Downloading Unidecode-1.3.2-py3-none-any.whl (235 kB)\n",
            "\u001b[?25l\r\u001b[K     |█▍                              | 10 kB 25.0 MB/s eta 0:00:01\r\u001b[K     |██▉                             | 20 kB 27.1 MB/s eta 0:00:01\r\u001b[K     |████▏                           | 30 kB 28.7 MB/s eta 0:00:01\r\u001b[K     |█████▋                          | 40 kB 30.5 MB/s eta 0:00:01\r\u001b[K     |███████                         | 51 kB 31.5 MB/s eta 0:00:01\r\u001b[K     |████████▍                       | 61 kB 34.0 MB/s eta 0:00:01\r\u001b[K     |█████████▊                      | 71 kB 34.1 MB/s eta 0:00:01\r\u001b[K     |███████████▏                    | 81 kB 35.0 MB/s eta 0:00:01\r\u001b[K     |████████████▌                   | 92 kB 35.9 MB/s eta 0:00:01\r\u001b[K     |██████████████                  | 102 kB 37.6 MB/s eta 0:00:01\r\u001b[K     |███████████████▎                | 112 kB 37.6 MB/s eta 0:00:01\r\u001b[K     |████████████████▊               | 122 kB 37.6 MB/s eta 0:00:01\r\u001b[K     |██████████████████              | 133 kB 37.6 MB/s eta 0:00:01\r\u001b[K     |███████████████████▌            | 143 kB 37.6 MB/s eta 0:00:01\r\u001b[K     |████████████████████▉           | 153 kB 37.6 MB/s eta 0:00:01\r\u001b[K     |██████████████████████▎         | 163 kB 37.6 MB/s eta 0:00:01\r\u001b[K     |███████████████████████▋        | 174 kB 37.6 MB/s eta 0:00:01\r\u001b[K     |█████████████████████████       | 184 kB 37.6 MB/s eta 0:00:01\r\u001b[K     |██████████████████████████▍     | 194 kB 37.6 MB/s eta 0:00:01\r\u001b[K     |███████████████████████████▉    | 204 kB 37.6 MB/s eta 0:00:01\r\u001b[K     |█████████████████████████████▏  | 215 kB 37.6 MB/s eta 0:00:01\r\u001b[K     |██████████████████████████████▋ | 225 kB 37.6 MB/s eta 0:00:01\r\u001b[K     |████████████████████████████████| 235 kB 37.6 MB/s eta 0:00:01\r\u001b[K     |████████████████████████████████| 235 kB 37.6 MB/s \n",
            "\u001b[?25hInstalling collected packages: unidecode\n",
            "Successfully installed unidecode-1.3.2\n"
          ]
        }
      ]
    },
    {
      "cell_type": "markdown",
      "metadata": {
        "id": "93MFfckYAvsz"
      },
      "source": [
        "**Lendo do dataset e mostrando os 5 primeiros itens no dataset**"
      ]
    },
    {
      "cell_type": "code",
      "metadata": {
        "colab": {
          "base_uri": "https://localhost:8080/",
          "height": 360
        },
        "id": "-cvXI1REKPg3",
        "outputId": "8ab69326-b8e8-43a7-e52b-29522c6f8456"
      },
      "source": [
        "# O delimitador do dataset é ';' e não ',', então precisa-se explicitar o uso do parâmetro 'delimiter' na leitura\n",
        "df = pd.read_csv('https://covid19.manaus.am.gov.br/wp-content/uploads/Manaus.csv', delimiter=';')\n",
        "df.head()"
      ],
      "execution_count": 3,
      "outputs": [
        {
          "output_type": "stream",
          "name": "stderr",
          "text": [
            "/usr/local/lib/python3.7/dist-packages/IPython/core/interactiveshell.py:2718: DtypeWarning: Columns (0,6,7,8,9,10,11,12,13,14,15,16,17,18,22,23,26,27,28,29,30,31) have mixed types.Specify dtype option on import or set low_memory=False.\n",
            "  interactivity=interactivity, compiler=compiler, result=result)\n"
          ]
        },
        {
          "output_type": "execute_result",
          "data": {
            "text/html": [
              "<div>\n",
              "<style scoped>\n",
              "    .dataframe tbody tr th:only-of-type {\n",
              "        vertical-align: middle;\n",
              "    }\n",
              "\n",
              "    .dataframe tbody tr th {\n",
              "        vertical-align: top;\n",
              "    }\n",
              "\n",
              "    .dataframe thead th {\n",
              "        text-align: right;\n",
              "    }\n",
              "</style>\n",
              "<table border=\"1\" class=\"dataframe\">\n",
              "  <thead>\n",
              "    <tr style=\"text-align: right;\">\n",
              "      <th></th>\n",
              "      <th>_dt_evolucao</th>\n",
              "      <th>_dt_notificacao</th>\n",
              "      <th>_dt_sintomas</th>\n",
              "      <th>_classificacao</th>\n",
              "      <th>_conclusao</th>\n",
              "      <th>_origem</th>\n",
              "      <th>_comorb_cardio</th>\n",
              "      <th>_comorb_cromossomica</th>\n",
              "      <th>_comorb_diabetes</th>\n",
              "      <th>_comorb_hemato</th>\n",
              "      <th>_comorb_hepatica</th>\n",
              "      <th>_comorb_imuno</th>\n",
              "      <th>_comorb_neurologica</th>\n",
              "      <th>_comorb_obessidade</th>\n",
              "      <th>_comorb_renal</th>\n",
              "      <th>_comorb_respiratoria</th>\n",
              "      <th>_criterio</th>\n",
              "      <th>_etnia</th>\n",
              "      <th>_evolução</th>\n",
              "      <th>_idade</th>\n",
              "      <th>_faixa etária</th>\n",
              "      <th>_gestante</th>\n",
              "      <th>_profiss_saude</th>\n",
              "      <th>_raca</th>\n",
              "      <th>_se_notificacao</th>\n",
              "      <th>_sexo</th>\n",
              "      <th>_sintoma_dispneia</th>\n",
              "      <th>_sintoma_febre</th>\n",
              "      <th>_sintoma_garganta</th>\n",
              "      <th>_sintoma_tosse</th>\n",
              "      <th>_sintoma_outros</th>\n",
              "      <th>_srag</th>\n",
              "      <th>_teste_anticorpo</th>\n",
              "      <th>_teste_antigeno</th>\n",
              "      <th>_teste_pcr</th>\n",
              "      <th>_bairro</th>\n",
              "      <th>_bairro_mapa</th>\n",
              "      <th>_distrito</th>\n",
              "      <th>_taxa</th>\n",
              "    </tr>\n",
              "  </thead>\n",
              "  <tbody>\n",
              "    <tr>\n",
              "      <th>0</th>\n",
              "      <td>25/01/2020 00:00</td>\n",
              "      <td>03/01/2020 00:00</td>\n",
              "      <td>01/01/2020 00:00</td>\n",
              "      <td>Descartado</td>\n",
              "      <td>Recuperado</td>\n",
              "      <td>SIVEP,</td>\n",
              "      <td>NaN</td>\n",
              "      <td>NaN</td>\n",
              "      <td>NaN</td>\n",
              "      <td>NaN</td>\n",
              "      <td>NaN</td>\n",
              "      <td>NaN</td>\n",
              "      <td>NaN</td>\n",
              "      <td>NaN</td>\n",
              "      <td>NaN</td>\n",
              "      <td>NaN</td>\n",
              "      <td>Laboratorial</td>\n",
              "      <td>NaN</td>\n",
              "      <td>Internado</td>\n",
              "      <td>4.0</td>\n",
              "      <td>1a - 4a</td>\n",
              "      <td>NaN</td>\n",
              "      <td>NaN</td>\n",
              "      <td>Parda</td>\n",
              "      <td>1.0</td>\n",
              "      <td>M</td>\n",
              "      <td>Sim</td>\n",
              "      <td>Sim</td>\n",
              "      <td>Sim</td>\n",
              "      <td>Sim</td>\n",
              "      <td>Sim</td>\n",
              "      <td>SRAG não especificado</td>\n",
              "      <td>NaN</td>\n",
              "      <td>NaN</td>\n",
              "      <td>NaN</td>\n",
              "      <td>TARUMA</td>\n",
              "      <td>TARUMÃ</td>\n",
              "      <td>OESTE</td>\n",
              "      <td>0,243042897</td>\n",
              "    </tr>\n",
              "    <tr>\n",
              "      <th>1</th>\n",
              "      <td>03/01/2020 00:00</td>\n",
              "      <td>03/01/2020 00:00</td>\n",
              "      <td>01/01/2020 00:00</td>\n",
              "      <td>Descartado</td>\n",
              "      <td>Óbito</td>\n",
              "      <td>SIVEP,</td>\n",
              "      <td>NaN</td>\n",
              "      <td>NaN</td>\n",
              "      <td>NaN</td>\n",
              "      <td>NaN</td>\n",
              "      <td>NaN</td>\n",
              "      <td>NaN</td>\n",
              "      <td>NaN</td>\n",
              "      <td>NaN</td>\n",
              "      <td>NaN</td>\n",
              "      <td>NaN</td>\n",
              "      <td>Laboratorial</td>\n",
              "      <td>NaN</td>\n",
              "      <td>Internado</td>\n",
              "      <td>26.0</td>\n",
              "      <td>20a - 29a</td>\n",
              "      <td>NaN</td>\n",
              "      <td>NaN</td>\n",
              "      <td>Parda</td>\n",
              "      <td>1.0</td>\n",
              "      <td>F</td>\n",
              "      <td>Sim</td>\n",
              "      <td>Sim</td>\n",
              "      <td>Sim</td>\n",
              "      <td>Sim</td>\n",
              "      <td>Sim</td>\n",
              "      <td>Influenza B</td>\n",
              "      <td>NaN</td>\n",
              "      <td>NaN</td>\n",
              "      <td>NaN</td>\n",
              "      <td>TARUMA-ACU</td>\n",
              "      <td>TARUMÃ-AÇÚ</td>\n",
              "      <td>OESTE</td>\n",
              "      <td>0,684931507</td>\n",
              "    </tr>\n",
              "    <tr>\n",
              "      <th>2</th>\n",
              "      <td>05/01/2020 00:00</td>\n",
              "      <td>03/01/2020 00:00</td>\n",
              "      <td>03/01/2020 00:00</td>\n",
              "      <td>Descartado</td>\n",
              "      <td>Óbito</td>\n",
              "      <td>SIVEP,</td>\n",
              "      <td>NaN</td>\n",
              "      <td>NaN</td>\n",
              "      <td>NaN</td>\n",
              "      <td>NaN</td>\n",
              "      <td>NaN</td>\n",
              "      <td>NaN</td>\n",
              "      <td>NaN</td>\n",
              "      <td>NaN</td>\n",
              "      <td>NaN</td>\n",
              "      <td>NaN</td>\n",
              "      <td>Laboratorial</td>\n",
              "      <td>NaN</td>\n",
              "      <td>Internado em UTI</td>\n",
              "      <td>27.0</td>\n",
              "      <td>20a - 29a</td>\n",
              "      <td>NaN</td>\n",
              "      <td>NaN</td>\n",
              "      <td>Parda</td>\n",
              "      <td>1.0</td>\n",
              "      <td>M</td>\n",
              "      <td>Sim</td>\n",
              "      <td>Sim</td>\n",
              "      <td>Sim</td>\n",
              "      <td>Sim</td>\n",
              "      <td>Sim</td>\n",
              "      <td>SRAG não especificado</td>\n",
              "      <td>NaN</td>\n",
              "      <td>NaN</td>\n",
              "      <td>NaN</td>\n",
              "      <td>JORGE TEIXEIRA</td>\n",
              "      <td>JORGE TEIXEIRA</td>\n",
              "      <td>LESTE</td>\n",
              "      <td>0,073137374</td>\n",
              "    </tr>\n",
              "    <tr>\n",
              "      <th>3</th>\n",
              "      <td>16/01/2020 00:00</td>\n",
              "      <td>08/01/2020 00:00</td>\n",
              "      <td>04/01/2020 00:00</td>\n",
              "      <td>Descartado</td>\n",
              "      <td>Óbito</td>\n",
              "      <td>SIVEP,</td>\n",
              "      <td>NaN</td>\n",
              "      <td>NaN</td>\n",
              "      <td>NaN</td>\n",
              "      <td>NaN</td>\n",
              "      <td>NaN</td>\n",
              "      <td>NaN</td>\n",
              "      <td>NaN</td>\n",
              "      <td>NaN</td>\n",
              "      <td>NaN</td>\n",
              "      <td>NaN</td>\n",
              "      <td>Laboratorial</td>\n",
              "      <td>NaN</td>\n",
              "      <td>Internado em UTI</td>\n",
              "      <td>94.0</td>\n",
              "      <td>80a ou +</td>\n",
              "      <td>NaN</td>\n",
              "      <td>NaN</td>\n",
              "      <td>Parda</td>\n",
              "      <td>2.0</td>\n",
              "      <td>M</td>\n",
              "      <td>Sim</td>\n",
              "      <td>Sim</td>\n",
              "      <td>Sim</td>\n",
              "      <td>Sim</td>\n",
              "      <td>Sim</td>\n",
              "      <td>SRAG não especificado</td>\n",
              "      <td>NaN</td>\n",
              "      <td>NaN</td>\n",
              "      <td>NaN</td>\n",
              "      <td>FLORES</td>\n",
              "      <td>FLORES</td>\n",
              "      <td>SUL</td>\n",
              "      <td>0,198306463</td>\n",
              "    </tr>\n",
              "    <tr>\n",
              "      <th>4</th>\n",
              "      <td>11/01/2020 00:00</td>\n",
              "      <td>08/01/2020 00:00</td>\n",
              "      <td>05/01/2020 00:00</td>\n",
              "      <td>Descartado</td>\n",
              "      <td>Recuperado</td>\n",
              "      <td>SIVEP,</td>\n",
              "      <td>NaN</td>\n",
              "      <td>NaN</td>\n",
              "      <td>NaN</td>\n",
              "      <td>NaN</td>\n",
              "      <td>NaN</td>\n",
              "      <td>NaN</td>\n",
              "      <td>NaN</td>\n",
              "      <td>NaN</td>\n",
              "      <td>NaN</td>\n",
              "      <td>NaN</td>\n",
              "      <td>Laboratorial</td>\n",
              "      <td>NaN</td>\n",
              "      <td>Internado</td>\n",
              "      <td>0.0</td>\n",
              "      <td>&lt; 1a</td>\n",
              "      <td>NaN</td>\n",
              "      <td>NaN</td>\n",
              "      <td>Parda</td>\n",
              "      <td>2.0</td>\n",
              "      <td>M</td>\n",
              "      <td>Sim</td>\n",
              "      <td>Sim</td>\n",
              "      <td>NaN</td>\n",
              "      <td>Sim</td>\n",
              "      <td>Sim</td>\n",
              "      <td>SRAG não especificado</td>\n",
              "      <td>NaN</td>\n",
              "      <td>NaN</td>\n",
              "      <td>NaN</td>\n",
              "      <td>CIDADE DE DEUS</td>\n",
              "      <td>CIDADE DE DEUS</td>\n",
              "      <td>NORTE</td>\n",
              "      <td>0,117699678</td>\n",
              "    </tr>\n",
              "  </tbody>\n",
              "</table>\n",
              "</div>"
            ],
            "text/plain": [
              "       _dt_evolucao   _dt_notificacao  ... _distrito        _taxa\n",
              "0  25/01/2020 00:00  03/01/2020 00:00  ...     OESTE  0,243042897\n",
              "1  03/01/2020 00:00  03/01/2020 00:00  ...     OESTE  0,684931507\n",
              "2  05/01/2020 00:00  03/01/2020 00:00  ...     LESTE  0,073137374\n",
              "3  16/01/2020 00:00  08/01/2020 00:00  ...       SUL  0,198306463\n",
              "4  11/01/2020 00:00  08/01/2020 00:00  ...     NORTE  0,117699678\n",
              "\n",
              "[5 rows x 39 columns]"
            ]
          },
          "metadata": {},
          "execution_count": 3
        }
      ]
    },
    {
      "cell_type": "markdown",
      "metadata": {
        "id": "kaporx2OB9Mt"
      },
      "source": [
        "**Quantos atributos descrevem cada exemplo? Quais são eles?**\n",
        "\n",
        "*R: Utilizando df.shape vemos que cada linha do dataset contém 39 colunas, ou atributos, para cada um dos exemplos.*"
      ]
    },
    {
      "cell_type": "code",
      "metadata": {
        "colab": {
          "base_uri": "https://localhost:8080/"
        },
        "id": "7q8LZosSfi7W",
        "outputId": "2b303196-0c84-47df-f981-8fce1e03a023"
      },
      "source": [
        "exemplos, atributos = df.shape\n",
        "print('A base de dados contém {} atributos para cada um dos {} exemplos'.format(atributos, exemplos))"
      ],
      "execution_count": null,
      "outputs": [
        {
          "output_type": "stream",
          "name": "stdout",
          "text": [
            "A base de dados contém 39 atributos para cada um dos 243984 exemplos\n"
          ]
        }
      ]
    },
    {
      "cell_type": "markdown",
      "metadata": {
        "id": "8Ctzd41kCQfs"
      },
      "source": [
        "**Quantos casos confirmados há em Manaus, cumulativamente?**\n",
        "\n",
        "*R: Utilizando-se do método value_counts aplicado à coluna _classificacao obtemos a informação de que em Manaus, de forma cumulativa, houve 80.420 casos confirmados*"
      ]
    },
    {
      "cell_type": "code",
      "metadata": {
        "colab": {
          "base_uri": "https://localhost:8080/"
        },
        "id": "ub8vVFHkfqbT",
        "outputId": "1d236b9b-fd3e-4dd1-b2af-5d6b3e450568"
      },
      "source": [
        "print('Casos confirmados em Manaus: {}'.format(df._classificacao.value_counts()[1]))\n",
        "df._conclusao.value_counts()"
      ],
      "execution_count": 7,
      "outputs": [
        {
          "output_type": "stream",
          "name": "stdout",
          "text": [
            "Casos confirmados em Manaus: 80420\n"
          ]
        },
        {
          "output_type": "execute_result",
          "data": {
            "text/plain": [
              "Recuperado                 176027\n",
              "Óbito                        4690\n",
              "Óbito por outras causas       211\n",
              "Name: _conclusao, dtype: int64"
            ]
          },
          "metadata": {},
          "execution_count": 7
        }
      ]
    },
    {
      "cell_type": "markdown",
      "metadata": {
        "id": "zYDVCZpjCdtM"
      },
      "source": [
        "**A qual período de tempo a base de dados se refere, isto é, qual o registro mais antigo e qual o mais recente? Leve em conta a data de notificação.**\n",
        "\n",
        "*R: Utilizando-se dos métodos max e min do python podemos obter a informação de que registro mais antigo foi de 01/01/2020 e o mais recente foi de 31/10/2020*"
      ]
    },
    {
      "cell_type": "code",
      "metadata": {
        "colab": {
          "base_uri": "https://localhost:8080/"
        },
        "id": "CfAAUIO_gxVj",
        "outputId": "4481c12f-c97d-4089-ca70-ccc6ad2df509"
      },
      "source": [
        "data_de_notificacao = df._dt_notificacao.dropna().tolist()\n",
        "data_de_notificacao = [datetime.datetime.strptime(date.split()[0], '%d/%m/%Y').strftime('%Y-%m-%d') for date in data_de_notificacao]\n",
        "\n",
        "print('Data de notificação mais recente: ', max(data_de_notificacao))\n",
        "print('Data de notificação mais antiga: ', min(data_de_notificacao))"
      ],
      "execution_count": null,
      "outputs": [
        {
          "output_type": "stream",
          "name": "stdout",
          "text": [
            "Data de notificação mais recente:  2020-12-29\n",
            "Data de notificação mais antiga:  2020-01-01\n"
          ]
        }
      ]
    },
    {
      "cell_type": "markdown",
      "metadata": {
        "id": "0BKg2NtRCsro"
      },
      "source": [
        "**Removendo os atributos que não serão utilizados e mostrando os 5 primeiros itens da base de dados modificada**"
      ]
    },
    {
      "cell_type": "code",
      "metadata": {
        "id": "CxepmN-lg0sd",
        "colab": {
          "base_uri": "https://localhost:8080/",
          "height": 204
        },
        "outputId": "c084e733-1284-4abf-9cef-bb4b7732ca6f"
      },
      "source": [
        "\n",
        "df2 = df.copy()\n",
        "df2.drop(['_dt_sintomas', \n",
        "          '_comorb_cardio', \n",
        "          '_comorb_cromossomica', \n",
        "          '_comorb_diabetes', \n",
        "          '_comorb_hemato', \n",
        "          '_comorb_hepatica', \n",
        "          '_comorb_imuno', \n",
        "          '_comorb_neurologica', \n",
        "          '_comorb_obessidade', \n",
        "          '_comorb_renal', \n",
        "          '_comorb_respiratoria',\n",
        "          '_sintoma_dispneia',\n",
        "          '_sintoma_febre',\n",
        "          '_sintoma_garganta',\n",
        "          '_sintoma_tosse',\n",
        "          '_sintoma_outros',\n",
        "          '_etnia', \n",
        "          '_origem', \n",
        "          '_raca',\n",
        "          '_se_notificacao',\n",
        "          '_srag',\n",
        "          '_distrito',\n",
        "          '_taxa',\n",
        "          '_bairro',\n",
        "          '_criterio',\n",
        "          '_evolução',\n",
        "          '_gestante',\n",
        "          '_profiss_saude',\n",
        "          '_teste_antigeno',\n",
        "          '_teste_anticorpo',\n",
        "          '_teste_pcr'], axis=1, inplace=True)\n",
        "\n",
        "df2 = df2.dropna()\n",
        "df2.head()"
      ],
      "execution_count": 8,
      "outputs": [
        {
          "output_type": "execute_result",
          "data": {
            "text/html": [
              "<div>\n",
              "<style scoped>\n",
              "    .dataframe tbody tr th:only-of-type {\n",
              "        vertical-align: middle;\n",
              "    }\n",
              "\n",
              "    .dataframe tbody tr th {\n",
              "        vertical-align: top;\n",
              "    }\n",
              "\n",
              "    .dataframe thead th {\n",
              "        text-align: right;\n",
              "    }\n",
              "</style>\n",
              "<table border=\"1\" class=\"dataframe\">\n",
              "  <thead>\n",
              "    <tr style=\"text-align: right;\">\n",
              "      <th></th>\n",
              "      <th>_dt_evolucao</th>\n",
              "      <th>_dt_notificacao</th>\n",
              "      <th>_classificacao</th>\n",
              "      <th>_conclusao</th>\n",
              "      <th>_idade</th>\n",
              "      <th>_faixa etária</th>\n",
              "      <th>_sexo</th>\n",
              "      <th>_bairro_mapa</th>\n",
              "    </tr>\n",
              "  </thead>\n",
              "  <tbody>\n",
              "    <tr>\n",
              "      <th>0</th>\n",
              "      <td>25/01/2020 00:00</td>\n",
              "      <td>03/01/2020 00:00</td>\n",
              "      <td>Descartado</td>\n",
              "      <td>Recuperado</td>\n",
              "      <td>4.0</td>\n",
              "      <td>1a - 4a</td>\n",
              "      <td>M</td>\n",
              "      <td>TARUMÃ</td>\n",
              "    </tr>\n",
              "    <tr>\n",
              "      <th>1</th>\n",
              "      <td>03/01/2020 00:00</td>\n",
              "      <td>03/01/2020 00:00</td>\n",
              "      <td>Descartado</td>\n",
              "      <td>Óbito</td>\n",
              "      <td>26.0</td>\n",
              "      <td>20a - 29a</td>\n",
              "      <td>F</td>\n",
              "      <td>TARUMÃ-AÇÚ</td>\n",
              "    </tr>\n",
              "    <tr>\n",
              "      <th>2</th>\n",
              "      <td>05/01/2020 00:00</td>\n",
              "      <td>03/01/2020 00:00</td>\n",
              "      <td>Descartado</td>\n",
              "      <td>Óbito</td>\n",
              "      <td>27.0</td>\n",
              "      <td>20a - 29a</td>\n",
              "      <td>M</td>\n",
              "      <td>JORGE TEIXEIRA</td>\n",
              "    </tr>\n",
              "    <tr>\n",
              "      <th>3</th>\n",
              "      <td>16/01/2020 00:00</td>\n",
              "      <td>08/01/2020 00:00</td>\n",
              "      <td>Descartado</td>\n",
              "      <td>Óbito</td>\n",
              "      <td>94.0</td>\n",
              "      <td>80a ou +</td>\n",
              "      <td>M</td>\n",
              "      <td>FLORES</td>\n",
              "    </tr>\n",
              "    <tr>\n",
              "      <th>4</th>\n",
              "      <td>11/01/2020 00:00</td>\n",
              "      <td>08/01/2020 00:00</td>\n",
              "      <td>Descartado</td>\n",
              "      <td>Recuperado</td>\n",
              "      <td>0.0</td>\n",
              "      <td>&lt; 1a</td>\n",
              "      <td>M</td>\n",
              "      <td>CIDADE DE DEUS</td>\n",
              "    </tr>\n",
              "  </tbody>\n",
              "</table>\n",
              "</div>"
            ],
            "text/plain": [
              "       _dt_evolucao   _dt_notificacao  ... _sexo    _bairro_mapa\n",
              "0  25/01/2020 00:00  03/01/2020 00:00  ...     M          TARUMÃ\n",
              "1  03/01/2020 00:00  03/01/2020 00:00  ...     F      TARUMÃ-AÇÚ\n",
              "2  05/01/2020 00:00  03/01/2020 00:00  ...     M  JORGE TEIXEIRA\n",
              "3  16/01/2020 00:00  08/01/2020 00:00  ...     M          FLORES\n",
              "4  11/01/2020 00:00  08/01/2020 00:00  ...     M  CIDADE DE DEUS\n",
              "\n",
              "[5 rows x 8 columns]"
            ]
          },
          "metadata": {},
          "execution_count": 8
        }
      ]
    },
    {
      "cell_type": "markdown",
      "metadata": {
        "id": "P2OaOeLPDs3U"
      },
      "source": [
        "**Quantos exemplos e atributos há na base de dados após a limpeza e organização**\n",
        "\n",
        "*R: A nova base de dados contém 8 atributos para cada um dos 106872 exemplos*"
      ]
    },
    {
      "cell_type": "code",
      "metadata": {
        "colab": {
          "base_uri": "https://localhost:8080/"
        },
        "id": "cDu2idKorx1V",
        "outputId": "b83de1cc-8c86-40f6-e0ec-69c31391a85a"
      },
      "source": [
        "exemplos, atributos = df2.shape\n",
        "print('A nova base de dados contém {} atributos para cada um dos {} exemplos'.format(atributos, exemplos))"
      ],
      "execution_count": null,
      "outputs": [
        {
          "output_type": "stream",
          "name": "stdout",
          "text": [
            "A nova base de dados contém 8 atributos para cada um dos 106872 exemplos\n"
          ]
        }
      ]
    },
    {
      "cell_type": "markdown",
      "metadata": {
        "id": "CKtDARsyELge"
      },
      "source": [
        "**Qual a porcentagem de indivíduos recuperados em relação ao todo?**\n",
        "\n",
        "R: A porcentagem de indivíduos recuperados é de 95.44 %"
      ]
    },
    {
      "cell_type": "code",
      "metadata": {
        "colab": {
          "base_uri": "https://localhost:8080/"
        },
        "id": "AClxU5RssUAA",
        "outputId": "22501fb7-fc3e-46dd-96f8-4247efd3630e"
      },
      "source": [
        "print('Porcentagem de indivíduos recuperados: {:.2f} %'.format(df2._conclusao.value_counts()['Recuperado'] * 100 / df2._conclusao.count()))"
      ],
      "execution_count": null,
      "outputs": [
        {
          "output_type": "stream",
          "name": "stdout",
          "text": [
            "Porcentagem de indivíduos recuperados: 95.44 %\n"
          ]
        }
      ]
    },
    {
      "cell_type": "markdown",
      "metadata": {
        "id": "aQ_GPEr8EbF-"
      },
      "source": [
        "**Os casos acometeram mais indivíduos do sexo masculino ou feminino?**\n",
        "\n",
        "*R: Os casos aconteceram mais em mulheres com 60051 casos registrados*"
      ]
    },
    {
      "cell_type": "code",
      "metadata": {
        "colab": {
          "base_uri": "https://localhost:8080/"
        },
        "id": "Mg-OS-fJsx7r",
        "outputId": "dbc069eb-845b-4844-b446-00263d68b076"
      },
      "source": [
        "df_casos_por_sexo = df2._sexo.value_counts()\n",
        "lista_casos_por_sexo = df_casos_por_sexo.tolist()\n",
        "maior_numero_de_casos = max(lista_casos_por_sexo)\n",
        "idx_sexo = df_casos_por_sexo.index[lista_casos_por_sexo.index(maior_numero_de_casos)]\n",
        "\n",
        "print('Os casos aconteceram mais em {}. {} casos registrados'.format('mulheres' if idx_sexo == 'F' else 'homens', maior_numero_de_casos))"
      ],
      "execution_count": null,
      "outputs": [
        {
          "output_type": "stream",
          "name": "stdout",
          "text": [
            "Os casos aconteceram mais em mulheres. 60051 casos registrados\n"
          ]
        }
      ]
    },
    {
      "cell_type": "markdown",
      "metadata": {
        "id": "8AzMnPIBFESo"
      },
      "source": [
        "**Qual a média e desvio padrão de idade dos indivíduos que contraíram COVID-19? Qual o indivíduo mais jovem e o mais idoso a contraírem tal enfermidade?**\n",
        "\n",
        "*R:*\n",
        "- *Média de idades: 39.90*\n",
        "\n",
        "- *Desvio padrão de idades: 17.22*\n",
        "\n",
        "- *Idade do indivíduo mais novo:  0.0*\n",
        "\n",
        "- *Idade do indivíduo mais idoso:  388.0*"
      ]
    },
    {
      "cell_type": "code",
      "metadata": {
        "colab": {
          "base_uri": "https://localhost:8080/"
        },
        "id": "k7LES3qbtKG2",
        "outputId": "d3b711f8-d35f-4144-e166-277ca191dba6"
      },
      "source": [
        "idades = df._idade.dropna().tolist()\n",
        "print('Média de idades: {:.2f}'.format(np.average(idades)))\n",
        "print('Desvio padrão de idades: {:.2f}'.format(np.std(idades)))\n",
        "print('Idade do indivíduo mais novo: ', min(df._idade.dropna()))\n",
        "print('Idade do indivíduo mais idoso: ', max(df._idade.dropna()))"
      ],
      "execution_count": null,
      "outputs": [
        {
          "output_type": "stream",
          "name": "stdout",
          "text": [
            "Média de idades: 39.90\n",
            "Desvio padrão de idades: 17.22\n",
            "Idade do indivíduo mais novo:  0.0\n",
            "Idade do indivíduo mais idoso:  388.0\n"
          ]
        }
      ]
    },
    {
      "cell_type": "markdown",
      "metadata": {
        "id": "vl1dC2G-Fkda"
      },
      "source": [
        "**Qual o bairro com maior incidência de casos?**\n",
        "\n",
        "*R: O bairro com maior incidencia de casos é o bairro SÃO JOSÉ OPERÁRIO com 9020 registros*"
      ]
    },
    {
      "cell_type": "code",
      "metadata": {
        "id": "zmD60Wszu956",
        "colab": {
          "base_uri": "https://localhost:8080/"
        },
        "outputId": "321d849e-a466-4030-c07c-cfa85d19a958"
      },
      "source": [
        "def reformat_string(word):\n",
        "  return unidecode(word.strip().lower())\n",
        "\n",
        "def compare_first_five_letters(string_a, string_b):\n",
        "  if len(string_a) < 5 or len(string_b) < 5:\n",
        "    return False\n",
        "\n",
        "  string_a = reformat_string(string_a)\n",
        "  string_b = reformat_string(string_b)\n",
        "\n",
        "  return string_a[:5] == string_b[:5]\n",
        "\n",
        "indices_bairros = df2._bairro_mapa.value_counts().keys().tolist()\n",
        "valores_bairros = df2._bairro_mapa.value_counts().tolist()\n",
        "\n",
        "for i in range(len(indices_bairros)):\n",
        "  for j in range(i + 1, len(indices_bairros)):\n",
        "    if compare_first_five_letters(indices_bairros[i], indices_bairros[j]):\n",
        "      valores_bairros[i] += valores_bairros[j]\n",
        "\n",
        "indice_alvo = valores_bairros.index(max(valores_bairros))\n",
        "\n",
        "print('O bairro com maior incidencia de casos é o bairro {} com {} registros'.format(indices_bairros[indice_alvo], valores_bairros[indice_alvo]))"
      ],
      "execution_count": null,
      "outputs": [
        {
          "output_type": "stream",
          "name": "stdout",
          "text": [
            "O bairro com maior incidencia de casos é o bairro SÃO JOSÉ OPERÁRIO com 9020 registros\n"
          ]
        }
      ]
    },
    {
      "cell_type": "markdown",
      "metadata": {
        "id": "6At3_8cmF0dt"
      },
      "source": [
        "**Quais os três bairros com maior incidência de casos recuperados?**\n",
        "\n",
        "*R: Os três bairros com maior incidência de casos recuperados são (em ordem descrescente):*\n",
        "\n",
        "- *CIDADE NOVA com 16760 recuperações*\n",
        "\n",
        "- *SÃO JOSÉ OPERÁRIO com 9294 recuperações*\n",
        "\n",
        "- *FLORES com 7620 recuperações*"
      ]
    },
    {
      "cell_type": "code",
      "metadata": {
        "id": "Img13_OBwbNE",
        "colab": {
          "base_uri": "https://localhost:8080/"
        },
        "outputId": "81bfe5b9-e343-48c7-f589-4149391f02b5"
      },
      "source": [
        "tres_bairros = df[['_conclusao', '_bairro_mapa']].dropna()\n",
        "tres_bairros = tres_bairros[(tres_bairros['_conclusao'] == 'Recuperado')]\n",
        "\n",
        "indices_bairros_recuperados = tres_bairros._bairro_mapa.value_counts().keys().tolist()\n",
        "valores_bairros_recuperados = tres_bairros._bairro_mapa.value_counts().tolist()\n",
        "\n",
        "for i in range(len(indices_bairros_recuperados)):\n",
        "  for j in range(i + 1, len(indices_bairros_recuperados)):\n",
        "    if compare_first_five_letters(indices_bairros_recuperados[i], indices_bairros_recuperados[j]):\n",
        "      valores_bairros_recuperados[i] += valores_bairros_recuperados[j]\n",
        "\n",
        "tres_maiores_quantidades = heapq.nlargest(3, valores_bairros_recuperados)\n",
        "indices_alvo = [valores_bairros_recuperados.index(tres_maiores_quantidades[0]), \n",
        "                valores_bairros_recuperados.index(tres_maiores_quantidades[1]), \n",
        "                valores_bairros_recuperados.index(tres_maiores_quantidades[2])]\n",
        "\n",
        "print('Os três bairros com maior incidência de casos recuperados são (em ordem descrescente):')\n",
        "print('{} com {} recuperações'.format(indices_bairros_recuperados[indices_alvo[0]], tres_maiores_quantidades[0]))\n",
        "print('{} com {} recuperações'.format(indices_bairros_recuperados[indices_alvo[1]], tres_maiores_quantidades[1]))\n",
        "print('{} com {} recuperações'.format(indices_bairros_recuperados[indices_alvo[2]], tres_maiores_quantidades[2]))"
      ],
      "execution_count": null,
      "outputs": [
        {
          "output_type": "stream",
          "name": "stdout",
          "text": [
            "Os três bairros com maior incidência de casos recuperados são (em ordem descrescente):\n",
            "CIDADE NOVA com 16760 recuperações\n",
            "SÃO JOSÉ OPERÁRIO com 9294 recuperações\n",
            "FLORES com 7620 recuperações\n"
          ]
        }
      ]
    },
    {
      "cell_type": "markdown",
      "metadata": {
        "id": "PsoBy8CsGMtT"
      },
      "source": [
        "**Quais os tipos de testes efetuados, segundo os dados? Indique os dados de maneira quantitativa e percentual.**\n",
        "\n",
        "R: Os testes encontrados na base de dados são: PCR, ANTÍGENO, ANTICORPO"
      ]
    },
    {
      "cell_type": "code",
      "metadata": {
        "colab": {
          "base_uri": "https://localhost:8080/"
        },
        "id": "sdW4aAZVwi41",
        "outputId": "399d5cc7-fcb1-4156-fef3-99bfff29f5e8"
      },
      "source": [
        "df_testes = df[['_teste_pcr', '_teste_antigeno', '_teste_anticorpo']].dropna()\n",
        "print(df_testes._teste_pcr.value_counts())\n",
        "print(df_testes._teste_antigeno.value_counts())\n",
        "print(df_testes._teste_anticorpo.value_counts())"
      ],
      "execution_count": null,
      "outputs": [
        {
          "output_type": "stream",
          "name": "stdout",
          "text": [
            "1.0    507\n",
            "2.0    159\n",
            "3.0     45\n",
            "4.0     10\n",
            "6.0      2\n",
            "5.0      2\n",
            "9.0      1\n",
            "Name: _teste_pcr, dtype: int64\n",
            "1.0    639\n",
            "2.0     74\n",
            "3.0      7\n",
            "4.0      5\n",
            "7.0      1\n",
            "Name: _teste_antigeno, dtype: int64\n",
            "1.0    511\n",
            "2.0    141\n",
            "3.0     52\n",
            "4.0     12\n",
            "5.0      7\n",
            "6.0      3\n",
            "Name: _teste_anticorpo, dtype: int64\n"
          ]
        }
      ]
    },
    {
      "cell_type": "markdown",
      "metadata": {
        "id": "HS1iBxNHGyrt"
      },
      "source": [
        "**Qual taxa de letalidade pode ser calculada a partir do conjunto de dados? Para calcular esta taxa, considere a fração do total de óbitos pelo total de casos;**\n",
        "\n",
        "*R: A taxa de letalidade é de 2.58 %*"
      ]
    },
    {
      "cell_type": "code",
      "metadata": {
        "id": "o4HHbe6Fwkkw",
        "colab": {
          "base_uri": "https://localhost:8080/"
        },
        "outputId": "5b13e104-4d94-4d97-ebbd-d52422e8d104"
      },
      "source": [
        "letalidade = df2._conclusao.value_counts()['Óbito'] * 100 / df._conclusao.notnull().sum()\n",
        "print(\"Taxa de letalidade: {:.2f} %\".format(letalidade))"
      ],
      "execution_count": null,
      "outputs": [
        {
          "output_type": "stream",
          "name": "stdout",
          "text": [
            "Taxa de letalidade: 2.58 %\n"
          ]
        }
      ]
    },
    {
      "cell_type": "markdown",
      "metadata": {
        "id": "-WjW0CkkG9Xu"
      },
      "source": [
        "**Qual o tipo de correlação, mediante coeficiente de correlação de Pearson, entre a idade e o número de casos? Para responder a esta pergunte, agrupe o número de casos por idade e efetue o cálculo de tal coeficiente. Indique, a partir do resultado, a natureza desta correlação, se é positiva ou negativa, e qual sua intensidade.**\n",
        "\n",
        "R: Utilizando o método corr, vemos que não há correlação entre os atributos _idade e _conclusao"
      ]
    },
    {
      "cell_type": "code",
      "metadata": {
        "colab": {
          "base_uri": "https://localhost:8080/",
          "height": 287
        },
        "id": "GxFTq_SnwpYg",
        "outputId": "bcecbaa4-94d2-40e3-e68b-47b718b108b4"
      },
      "source": [
        "df_corr = df2[['_idade', '_conclusao']].dropna()\n",
        "\n",
        "df_corr['_óbito'] = [1 if i == 'Óbito' else 0 for i in df_corr._conclusao]\n",
        "df_corr_aux = df_corr.groupby(['_idade'])['_óbito'].agg('sum')\n",
        "df_corr = pd.DataFrame({'_idade': df_corr_aux.index, '_total_obito_por_idade': df_corr_aux.values})\n",
        "\n",
        "correlacao = df_corr.corr(method='pearson')\n",
        "plot = sn.heatmap(correlacao, annot = True, fmt=\".1f\", linewidths=.6)\n",
        "plot"
      ],
      "execution_count": 9,
      "outputs": [
        {
          "output_type": "execute_result",
          "data": {
            "text/plain": [
              "<matplotlib.axes._subplots.AxesSubplot at 0x7f1d28ee6ad0>"
            ]
          },
          "metadata": {},
          "execution_count": 9
        },
        {
          "output_type": "display_data",
          "data": {
            "image/png": "[encoded data removed]",
            "text/plain": [
              "<Figure size 432x288 with 2 Axes>"
            ]
          },
          "metadata": {
            "needs_background": "light"
          }
        }
      ]
    },
    {
      "cell_type": "markdown",
      "metadata": {
        "id": "CcIlAVv1I3cB"
      },
      "source": [
        "**Construa um histograma denotando a quantidade de casos nos 10 bairros em que houve mais casos registrados. Inclua todos os bairros remanescentes em uma categoria denominada “Outros.” Denote as informações de maneira percentual; Qual o bairro com maior incidência de casos?**\n",
        "\n",
        "R: O bairro com maior incidencia de casos é SÃO JOSÉ OPERÁRIO"
      ]
    },
    {
      "cell_type": "code",
      "metadata": {
        "colab": {
          "base_uri": "https://localhost:8080/",
          "height": 624
        },
        "id": "HLYIIsq__jEO",
        "outputId": "70c3848b-d172-49cd-e781-bc399abd9fdf"
      },
      "source": [
        "indices_bairros = df2._bairro_mapa.value_counts().keys().tolist()\n",
        "nomes_bairros = df2._bairro_mapa.value_counts().tolist()\n",
        "\n",
        "indices_ignorados = []\n",
        "\n",
        "for i in range(len(indices_bairros)):\n",
        "  for j in range(i + 1, len(indices_bairros)):\n",
        "    if compare_first_five_letters(indices_bairros[i], indices_bairros[j]):\n",
        "      nomes_bairros[i] += nomes_bairros[j]\n",
        "      indices_ignorados.append(j)\n",
        "\n",
        "for i in sorted(indices_ignorados, reverse = True):\n",
        "  del indices_bairros[i]\n",
        "  del nomes_bairros[i]\n",
        "\n",
        "df_bairros = pd.DataFrame({'bairros': indices_bairros, 'casos': nomes_bairros})\n",
        "df_bairros.sort_values(by=['casos'], ascending=False, inplace=True)\n",
        "df_bairros = df_bairros.head(10).append({'bairros': 'OUTROS', 'casos': df_bairros.iloc[0:3, 1:2].sum()[0]}, ignore_index=True)\n",
        "\n",
        "plt.figure(figsize=(25, 10))\n",
        "plt.title('10 bairros com mais casos registrados em Manaus')\n",
        "plt.xlabel('Bairros')\n",
        "plt.ylabel('Casos')\n",
        "plt.bar(df_bairros.bairros.tolist(), df_bairros.casos.tolist())\n",
        "\n",
        "plt.show()"
      ],
      "execution_count": null,
      "outputs": [
        {
          "output_type": "display_data",
          "data": {
            "image/png": "[encoded data removed]",
            "text/plain": [
              "<Figure size 1800x720 with 1 Axes>"
            ]
          },
          "metadata": {
            "needs_background": "light"
          }
        }
      ]
    },
    {
      "cell_type": "markdown",
      "metadata": {
        "id": "kzQP13F1JgJs"
      },
      "source": [
        "**Denote, por sexo, o boxplot da idade dos casos confirmados. Há outliers?**\n",
        "\n",
        "R: Sim, pelo gráfico identificamos que há idades por volta de 120"
      ]
    },
    {
      "cell_type": "code",
      "metadata": {
        "colab": {
          "base_uri": "https://localhost:8080/",
          "height": 319
        },
        "id": "8qTwt27pab-H",
        "outputId": "030c4ba7-3821-435b-a225-519d2f45aa24"
      },
      "source": [
        "df_sexo = df2[['_sexo', '_idade', '_classificacao']].dropna()\n",
        "homens = df_sexo[(df_sexo['_sexo'] == 'M') & (df_sexo['_classificacao'] == 'Confirmado')]\n",
        "mulheres = df_sexo[(df_sexo['_sexo'] == 'F') & (df_sexo['_classificacao'] == 'Confirmado')]\n",
        "\n",
        "dados = [[int(idade) for idade in homens._idade.tolist()], \n",
        "        [int(idade) for idade in mulheres._idade.tolist()]]\n",
        "       \n",
        "plt.boxplot(dados)\n",
        "plt.show()"
      ],
      "execution_count": null,
      "outputs": [
        {
          "output_type": "stream",
          "name": "stderr",
          "text": [
            "/usr/local/lib/python3.7/dist-packages/numpy/core/_asarray.py:83: VisibleDeprecationWarning: Creating an ndarray from ragged nested sequences (which is a list-or-tuple of lists-or-tuples-or ndarrays with different lengths or shapes) is deprecated. If you meant to do this, you must specify 'dtype=object' when creating the ndarray\n",
            "  return array(a, dtype, copy=False, order=order)\n"
          ]
        },
        {
          "output_type": "display_data",
          "data": {
            "image/png": "[encoded data removed]",
            "text/plain": [
              "<Figure size 432x288 with 1 Axes>"
            ]
          },
          "metadata": {
            "needs_background": "light"
          }
        }
      ]
    },
    {
      "cell_type": "markdown",
      "metadata": {
        "id": "R8l01FafJ-Hu"
      },
      "source": [
        "**Denote em um gráfico de barras o número de novos casos por dia, considerando os 10 últimos dias existentes na base de dados;**"
      ]
    },
    {
      "cell_type": "code",
      "metadata": {
        "colab": {
          "base_uri": "https://localhost:8080/",
          "height": 655
        },
        "id": "ilBm0LqBp5ut",
        "outputId": "fc8e8eea-08d9-4a0d-f7ca-08065e7571ce"
      },
      "source": [
        "df_novos_casos = df2[['_dt_notificacao', '_classificacao']].dropna()\n",
        "\n",
        "data_em_ingles = df_novos_casos._dt_notificacao.tolist()\n",
        "data_em_ingles = [datetime.datetime.strptime(date.split()[0], '%d/%m/%Y').strftime('%Y-%m-%d') for date in data_em_ingles]\n",
        "df_novos_casos._dt_notificacao = data_em_ingles\n",
        "\n",
        "df_novos_casos['descartado'] = [1 if i == 'Descartado' else 0 for i in df_novos_casos._classificacao]\n",
        "df_novos_casos['confirmado'] = [1 if i == 'Confirmado' else 0 for i in df_novos_casos._classificacao]\n",
        "df_novos_casos['em_analise'] = [1 if i == 'Em análise' else 0 for i in df_novos_casos._classificacao]\n",
        "\n",
        "df_novos_casos = df_novos_casos.groupby(['_dt_notificacao'])['descartado', 'confirmado', 'em_analise'].agg('sum')\n",
        "df_novos_casos.sort_values(by=['_dt_notificacao'], ascending=True, inplace=True)\n",
        "\n",
        "plt.figure(figsize=(25, 10))\n",
        "plt.title('Novos casos confirmados - Ultimos 10 dias')\n",
        "plt.xlabel('Dias')\n",
        "plt.ylabel('Casos')\n",
        "plt.bar(df_novos_casos.index[-10:], df_novos_casos.confirmado.tolist()[-10:])\n",
        "\n",
        "plt.show()"
      ],
      "execution_count": null,
      "outputs": [
        {
          "output_type": "stream",
          "name": "stderr",
          "text": [
            "/usr/local/lib/python3.7/dist-packages/ipykernel_launcher.py:11: FutureWarning: Indexing with multiple keys (implicitly converted to a tuple of keys) will be deprecated, use a list instead.\n",
            "  # This is added back by InteractiveShellApp.init_path()\n"
          ]
        },
        {
          "output_type": "display_data",
          "data": {
            "image/png": "[encoded data removed]",
            "text/plain": [
              "<Figure size 1800x720 with 1 Axes>"
            ]
          },
          "metadata": {
            "needs_background": "light"
          }
        }
      ]
    },
    {
      "cell_type": "markdown",
      "metadata": {
        "id": "ztvOJ_yHLQZ3"
      },
      "source": [
        "**Repita o gráfico anterior considerando o número de casos recuperados;**"
      ]
    },
    {
      "cell_type": "code",
      "metadata": {
        "colab": {
          "base_uri": "https://localhost:8080/",
          "height": 655
        },
        "id": "pn-XuILe5oQO",
        "outputId": "54d593d0-dc1b-487f-c37b-549e17bc2cb0"
      },
      "source": [
        "df_recuperados = df2[['_dt_evolucao', '_conclusao']].dropna()\n",
        "\n",
        "data_em_ingles = df_recuperados._dt_evolucao.tolist()\n",
        "data_em_ingles = [datetime.datetime.strptime(date.split()[0], '%d/%m/%Y').strftime('%Y-%m-%d') for date in data_em_ingles]\n",
        "df_recuperados._dt_evolucao = data_em_ingles\n",
        "\n",
        "df_recuperados['recuperado'] = [1 if i == 'Recuperado' else 0 for i in df_recuperados._conclusao]\n",
        "df_recuperados['obito'] = [1 if i == 'Óbito' else 0 for i in df_recuperados._conclusao]\n",
        "df_recuperados['obito_outra_causa'] = [1 if i == 'Óbito por outras causas' else 0 for i in df_recuperados._conclusao]\n",
        "\n",
        "df_recuperados = df_recuperados.groupby(['_dt_evolucao'])['recuperado', 'obito', 'obito_outra_causa'].agg('sum')\n",
        "df_recuperados.sort_values(by=['_dt_evolucao'], ascending=True, inplace=True)\n",
        "\n",
        "plt.figure(figsize=(25, 10))\n",
        "plt.title('Casos recuperados - Ultimos 10 dias')\n",
        "plt.xlabel('Dias')\n",
        "plt.ylabel('Casos')\n",
        "plt.bar(df_recuperados.index[-10:], df_recuperados.recuperado.tolist()[-10:])\n",
        "\n",
        "plt.show()"
      ],
      "execution_count": null,
      "outputs": [
        {
          "output_type": "stream",
          "name": "stderr",
          "text": [
            "/usr/local/lib/python3.7/dist-packages/ipykernel_launcher.py:11: FutureWarning: Indexing with multiple keys (implicitly converted to a tuple of keys) will be deprecated, use a list instead.\n",
            "  # This is added back by InteractiveShellApp.init_path()\n"
          ]
        },
        {
          "output_type": "display_data",
          "data": {
            "image/png": "[encoded data removed]",
            "text/plain": [
              "<Figure size 1800x720 with 1 Axes>"
            ]
          },
          "metadata": {
            "needs_background": "light"
          }
        }
      ]
    },
    {
      "cell_type": "markdown",
      "metadata": {
        "id": "HbTdtTyBLe-a"
      },
      "source": [
        "**Construa um histograma que denote a quantidade percentual de casos por grupo etário, considerando que cada grupo contempla uma década (0 a 10 anos, 11 a 20 anos, etc.);**"
      ]
    },
    {
      "cell_type": "code",
      "metadata": {
        "id": "D9sjgpSB54NB",
        "colab": {
          "base_uri": "https://localhost:8080/",
          "height": 638
        },
        "outputId": "61106010-abda-490d-ba0e-3e2b323c3416"
      },
      "source": [
        "df_faixa_etaria = df2['_faixa etária'].dropna()\n",
        "df_faixa_etaria = df_faixa_etaria.replace(to_replace=\" < 1a\", value=\"0a - 1a\")\n",
        "labels_faixa_etaria = [data.strip() for data in df_faixa_etaria]\n",
        "indices_faixa_etaria = [1 for i in range(1, len(labels_faixa_etaria) + 1)]\n",
        "df_faixa_etaria = pd.DataFrame({'faixa': labels_faixa_etaria, 'idx': indices_faixa_etaria})\n",
        "\n",
        "grupo1 = [\"0a - 1a\", \"1a - 4a\", \"5a - 9a\"]\n",
        "grupo2 = ['10a - 14a', '15a - 19a']\n",
        "agrupamento1 = df_faixa_etaria.loc[df_faixa_etaria['faixa'].isin(grupo1)]\n",
        "agrupamento2 = df_faixa_etaria.loc[df_faixa_etaria['faixa'].isin(grupo2)]\n",
        "\n",
        "df_faixa_etaria_atualizada = pd.DataFrame({'faixa': ['0a - 9a', '10a - 19a'], \n",
        "                                           'idx': [agrupamento1.idx.sum(), agrupamento2.idx.sum()]})\n",
        "\n",
        "df_faixa_etaria = df_faixa_etaria.copy()\n",
        "for i in grupo1 + grupo2:\n",
        "  df_faixa_etaria = df_faixa_etaria.drop(df_faixa_etaria[df_faixa_etaria['faixa'] == i].index)\n",
        "\n",
        "df_faixa_etaria = df_faixa_etaria.groupby(['faixa'])['idx'].agg('sum')\n",
        "df_faixa_etaria = pd.DataFrame({'faixa': df_faixa_etaria.index, 'idx': df_faixa_etaria.values})\n",
        "df_faixa_etaria_atualizada = df_faixa_etaria_atualizada.append(df_faixa_etaria)\n",
        "\n",
        "porcentagem = ['{:.2f} %'.format(data * 100 / len(df2['_faixa etária'].dropna().index)) for data in df_faixa_etaria_atualizada.idx]\n",
        "df_faixa_etaria_atualizada['porcentagem'] = porcentagem\n",
        "\n",
        "plt.figure(figsize=(25, 10))\n",
        "plt.title('Percentual de casos por faixa etária')\n",
        "plt.xlabel('Faixa etária')\n",
        "plt.ylabel('Percentual de casos')\n",
        "plt.bar(df_faixa_etaria_atualizada.faixa, df_faixa_etaria_atualizada.idx)"
      ],
      "execution_count": null,
      "outputs": [
        {
          "output_type": "execute_result",
          "data": {
            "text/plain": [
              "<BarContainer object of 9 artists>"
            ]
          },
          "metadata": {},
          "execution_count": 36
        },
        {
          "output_type": "display_data",
          "data": {
            "image/png": "[encoded data removed]",
            "text/plain": [
              "<Figure size 1800x720 with 1 Axes>"
            ]
          },
          "metadata": {
            "needs_background": "light"
          }
        }
      ]
    },
    {
      "cell_type": "markdown",
      "metadata": {
        "id": "r9V40U3jLzmQ"
      },
      "source": [
        "**Elabore um gráfico que mostra o cumulativo de casos notificados ao longo do tempo;**"
      ]
    },
    {
      "cell_type": "code",
      "metadata": {
        "colab": {
          "base_uri": "https://localhost:8080/",
          "height": 621
        },
        "id": "iGRIuDbD5-S3",
        "outputId": "dccda3f6-19b3-43be-89a1-58002b016348"
      },
      "source": [
        "df_cumulativo = df2[['_dt_notificacao']].dropna()\n",
        "\n",
        "data_em_ingles = df_cumulativo._dt_notificacao.tolist()\n",
        "data_em_ingles = [datetime.datetime.strptime(date.split()[0], '%d/%m/%Y').strftime('%Y-%m-%d') for date in data_em_ingles]\n",
        "df_cumulativo._dt_notificacao = data_em_ingles\n",
        "\n",
        "df_cumulativo.sort_values(by=['_dt_notificacao'], ascending=False, inplace=True)\n",
        "\n",
        "indices = [1 for i in range(1, len(df_cumulativo.index) + 1)]\n",
        "df_cumulativo['idx'] = indices\n",
        "df_cumulativo = df_cumulativo.groupby(['_dt_notificacao'])['idx'].agg('sum')\n",
        "\n",
        "new_idxs_list = []\n",
        "count = 0\n",
        "for i in df_cumulativo.values:\n",
        "  count += i\n",
        "  new_idxs_list.append(count)\n",
        "\n",
        "plt.figure(figsize=(25, 10))\n",
        "plt.title('Cumulativo de casos')\n",
        "plt.xlabel('Dias')\n",
        "plt.ylabel('Casos')\n",
        "plt.bar(df_cumulativo.index, new_idxs_list)\n",
        "\n",
        "plt.show()"
      ],
      "execution_count": null,
      "outputs": [
        {
          "output_type": "display_data",
          "data": {
            "image/png": "[encoded data removed]",
            "text/plain": [
              "<Figure size 1800x720 with 1 Axes>"
            ]
          },
          "metadata": {
            "needs_background": "light"
          }
        }
      ]
    },
    {
      "cell_type": "markdown",
      "metadata": {
        "id": "DSFTgKS9MEOc"
      },
      "source": [
        "**Faça um gráfico do tipo scatterplot que denote a idade versus o número total de casos registrado para aquela idade. Aproveite o processamento efetuado para o cálculo da correlação. É possível observar alguma tendência?**\n",
        "\n",
        "*R: O maior numero de casos é observado em torno dos 50 anos de idade.*"
      ]
    },
    {
      "cell_type": "code",
      "metadata": {
        "colab": {
          "base_uri": "https://localhost:8080/",
          "height": 863
        },
        "id": "DXSE1Gv7EiIO",
        "outputId": "ab997330-2cc7-4600-ae84-5f2b61bc1278"
      },
      "source": [
        "df_idade_scatter = df[['_idade']].dropna()\n",
        "\n",
        "indices = [1 for i in range(1, len(df_idade_scatter.index) + 1)]\n",
        "df_idade_scatter.sort_values(by=['_idade'], ascending=False, inplace=True)\n",
        "df_idade_scatter['idx'] = indices\n",
        "df_idade_scatter = df_idade_scatter.groupby(['_idade'])['idx'].agg('sum')\n",
        "\n",
        "fig, ax = plt.subplots(figsize = (15, 15))\n",
        "ax.scatter(df_idade_scatter.index, df_idade_scatter.values)\n",
        "\n",
        "for i, txt in enumerate(df_idade_scatter.values):\n",
        "    ax.annotate(txt, (df_idade_scatter.index[i], df_idade_scatter.values[i]))"
      ],
      "execution_count": null,
      "outputs": [
        {
          "output_type": "display_data",
          "data": {
            "image/png": "[encoded data removed]",
            "text/plain": [
              "<Figure size 1080x1080 with 1 Axes>"
            ]
          },
          "metadata": {
            "needs_background": "light"
          }
        }
      ]
    },
    {
      "cell_type": "markdown",
      "metadata": {
        "id": "skucLNoEbqe3"
      },
      "source": [
        "**Uma tarefa de classificação mediante Aprendizado Supervisionado que poderia ser feita com esta base de dados. Qual seria o atributo-alvo? Quais métricas de desempenho poderiam ser aplicadas? Que tipo de validação seria apropriado?**\n",
        "\n",
        "R: \n",
        "- Atributo-alvo: _conclusao no intuito de classificar binariamente entre recuperação e óbito\n",
        "- Métricas: Poderia-se utilizar da revocação, com o foco em saber entre todos os casos classificados como recuperação, quantos foram de fato recuperados."
      ]
    },
    {
      "cell_type": "markdown",
      "metadata": {
        "id": "0Mero4JDcIQK"
      },
      "source": [
        "**Uma tarefa de regressão mediante Aprendizado Supervisionado que poderia ser feita com esta base de dados. Qual seria o atributo-alvo? Quais atributos preditores a equipe considera relevantes para o cenário?**\n",
        "\n",
        "R:\n",
        "- Atributo-alvo: quantidade de casos registrados por dia\n",
        "- Atributos preditores: idade, comorbidades e sintomas"
      ]
    }
  ]
}